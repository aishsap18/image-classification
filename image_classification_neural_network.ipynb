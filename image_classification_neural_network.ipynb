{
 "cells": [
  {
   "cell_type": "markdown",
   "metadata": {},
   "source": [
    "# Neural Network Classification"
   ]
  },
  {
   "cell_type": "code",
   "execution_count": 1,
   "metadata": {},
   "outputs": [],
   "source": [
    "# Package imports\n",
    "import matplotlib.pyplot as plt\n",
    "import numpy as np\n",
    "import sklearn.model_selection as sk\n",
    "import sklearn.metrics as skm\n",
    "import matplotlib\n",
    "import gzip, pickle\n",
    "\n",
    "# Display plots inline and change default figure size\n",
    "%matplotlib inline"
   ]
  },
  {
   "cell_type": "markdown",
   "metadata": {},
   "source": [
    "## Binary Neural Network Classifier on XOR data"
   ]
  },
  {
   "cell_type": "code",
   "execution_count": 2,
   "metadata": {},
   "outputs": [],
   "source": [
    "# input\n",
    "X = np.array([[0,0], [0,1], [1,0], [1,1]])\n",
    "# output\n",
    "y = np.array([[0], [1], [1], [0]])"
   ]
  },
  {
   "cell_type": "code",
   "execution_count": 3,
   "metadata": {},
   "outputs": [],
   "source": [
    "# input dimension\n",
    "D = 2 \n",
    "# number of neurons in hidden layer\n",
    "N = 3 \n",
    "# binary output class \n",
    "K = 1\n",
    "# learning rate\n",
    "l_r = .1\n",
    "epochs = 50000"
   ]
  },
  {
   "cell_type": "code",
   "execution_count": 4,
   "metadata": {},
   "outputs": [],
   "source": [
    "np.random.seed(1)\n",
    "# weight at hidden layer \n",
    "w_0 = np.random.uniform(size=(D, N))\n",
    "# weight at output layer\n",
    "w_1 = np.random.uniform(size=(N, K))"
   ]
  },
  {
   "cell_type": "code",
   "execution_count": 5,
   "metadata": {},
   "outputs": [],
   "source": [
    "def sigmoid(x):  \n",
    "    ''' Sigmoid function '''\n",
    "    \n",
    "    return 1/(1+np.exp(-x))\n",
    "\n",
    "def sigmoid_derivative(x):  \n",
    "    ''' Derivative of sigmoid function '''\n",
    "    \n",
    "    return sigmoid(x) * (1-sigmoid (x))"
   ]
  },
  {
   "cell_type": "code",
   "execution_count": 6,
   "metadata": {
    "scrolled": false
   },
   "outputs": [
    {
     "name": "stdout",
     "output_type": "stream",
     "text": [
      "[-0.08361069]\n",
      "[0.00669058]\n",
      "[0.00580568]\n",
      "[0.02891543]\n",
      "[0.04851653]\n",
      "[0.02891572]\n",
      "[0.00170729]\n",
      "[0.00048206]\n",
      "[0.00020702]\n",
      "[0.00010569]\n"
     ]
    },
    {
     "data": {
      "image/png": "[encoded data removed]",
      "text/plain": [
       "<Figure size 432x288 with 1 Axes>"
      ]
     },
     "metadata": {
      "needs_background": "light"
     },
     "output_type": "display_data"
    }
   ],
   "source": [
    "errors = []\n",
    "epoch_list = []\n",
    "for epoch in range(epochs):\n",
    " \n",
    "    # Forward pass\n",
    "    # activation at hidden layer\n",
    "    z0 = np.dot(X, w_0)\n",
    "    a0 = sigmoid(z0)\n",
    "    z1 = np.dot(a0, w_1)\n",
    "    \n",
    "    # Calculate error\n",
    "    error = y - z1\n",
    "    \n",
    "    if epoch % 5000 == 0:\n",
    "        print(sum(error))\n",
    "        errors.append(sum(error))\n",
    "        epoch_list.append(epoch)\n",
    "\n",
    "    # Backward pass\n",
    "    d_z1 = error * l_r\n",
    "    w_1 += a0.T.dot(d_z1)\n",
    "    \n",
    "    d_z0 = d_z1.dot(w_1.T) * sigmoid_derivative(a0)\n",
    "    w_0 += X.T.dot(d_z0)\n",
    "    \n",
    "plt.xlabel('Epochs')\n",
    "plt.ylabel('Error')\n",
    "plt.plot(epoch_list, errors)\n",
    "plt.show()"
   ]
  },
  {
   "cell_type": "markdown",
   "metadata": {},
   "source": [
    "The convergence criteria here is number of epochs because of the computation limitations. As we can observe here the error tries ot get closer to 0 with each epoch. "
   ]
  },
  {
   "cell_type": "code",
   "execution_count": 7,
   "metadata": {},
   "outputs": [
    {
     "data": {
      "text/plain": [
       "array([0.99978893])"
      ]
     },
     "execution_count": 7,
     "metadata": {},
     "output_type": "execute_result"
    }
   ],
   "source": [
    "X_test = [0, 1]\n",
    "\n",
    "# predict X_test\n",
    "z0 = np.dot(X_test, w_0)\n",
    "a_l = sigmoid(z0)\n",
    "z1 = np.dot(a_l, w_1)\n",
    "z1"
   ]
  },
  {
   "cell_type": "markdown",
   "metadata": {},
   "source": [
    "The predicted probability is 0.999 which is very close to 1 and that is what we expected our output to be."
   ]
  },
  {
   "cell_type": "markdown",
   "metadata": {},
   "source": [
    "# MNIST data"
   ]
  },
  {
   "cell_type": "code",
   "execution_count": 8,
   "metadata": {},
   "outputs": [],
   "source": [
    "# reading the input file\n",
    "with gzip.open('mnist_rowmajor.pkl.gz', 'rb') as data_fh:\n",
    "    data = pickle.load(data_fh, encoding='latin1')"
   ]
  },
  {
   "cell_type": "code",
   "execution_count": 9,
   "metadata": {},
   "outputs": [],
   "source": [
    "# creating numpy arrays of training and testing data\n",
    "train_images = data['images_train']\n",
    "train_labels = data['labels_train']\n",
    "test_images = data['images_test']\n",
    "test_labels = data['labels_test']"
   ]
  },
  {
   "cell_type": "code",
   "execution_count": 10,
   "metadata": {},
   "outputs": [],
   "source": [
    "# splitting train data into train and dev sets\n",
    "int_train_images, int_dev_images, int_train_labels, int_dev_labels = sk.train_test_split(train_images, train_labels, \n",
    "                                                                                         test_size=0.15, random_state=42)"
   ]
  },
  {
   "cell_type": "code",
   "execution_count": 11,
   "metadata": {},
   "outputs": [
    {
     "data": {
      "image/png": "[encoded data removed]",
      "text/plain": [
       "<Figure size 432x288 with 1 Axes>"
      ]
     },
     "metadata": {
      "needs_background": "light"
     },
     "output_type": "display_data"
    }
   ],
   "source": [
    "# visualizing train and dev sets\n",
    "train_items, train_count = np.unique(int_train_labels, return_counts=True)\n",
    "dev_items, dev_count = np.unique(int_dev_labels, return_counts=True)\n",
    "\n",
    "# create plot\n",
    "fig, ax = plt.subplots()\n",
    "index = np.arange(len(dev_items))\n",
    "bar_width = 0.35\n",
    "opacity = 0.8\n",
    " \n",
    "rects1 = plt.bar(index, train_count, bar_width,\n",
    "alpha=opacity,\n",
    "color='b',\n",
    "label='Training set')\n",
    " \n",
    "rects2 = plt.bar(index + bar_width, dev_count, bar_width,\n",
    "alpha=opacity,\n",
    "color='g',\n",
    "label='Development set')\n",
    " \n",
    "plt.xlabel('Output labels')\n",
    "plt.ylabel('Number of data points')\n",
    "plt.title('Comparison of data points')\n",
    "plt.xticks(index + bar_width, (dev_items))\n",
    "plt.legend()\n",
    " \n",
    "plt.tight_layout()\n",
    "plt.show()"
   ]
  },
  {
   "cell_type": "markdown",
   "metadata": {},
   "source": [
    "## Multiclass Neural Network Classifier on MNIST data"
   ]
  },
  {
   "cell_type": "code",
   "execution_count": 12,
   "metadata": {},
   "outputs": [],
   "source": [
    "def one_hot(y_data, K):\n",
    "    ''' Represent labels in one hot vectors '''\n",
    "    \n",
    "    one_hot_labels = np.zeros((len(y_data), K))\n",
    "    for i in range(len(y_data)):  \n",
    "        one_hot_labels[i, y_data[i]] = 1\n",
    "    return one_hot_labels"
   ]
  },
  {
   "cell_type": "code",
   "execution_count": 13,
   "metadata": {},
   "outputs": [],
   "source": [
    "def cross_entropy(y_hat, y):\n",
    "    ''' Cross entropy loss function '''\n",
    "    \n",
    "    l = - np.sum(y * np.log(y_hat))\n",
    "    return l"
   ]
  },
  {
   "cell_type": "code",
   "execution_count": 14,
   "metadata": {},
   "outputs": [],
   "source": [
    "def softmax(A):\n",
    "    ''' Softmax function '''\n",
    "    \n",
    "    expA = np.exp(A)\n",
    "    return expA / expA.sum(axis=1, keepdims=True)"
   ]
  },
  {
   "cell_type": "code",
   "execution_count": 15,
   "metadata": {},
   "outputs": [],
   "source": [
    "def relu(x):\n",
    "    ''' ReLU function '''\n",
    "    \n",
    "    return np.maximum(0, x)\n",
    "\n",
    "def relu_derivative(x):\n",
    "    ''' Derivative of ReLU function '''\n",
    "    \n",
    "    x[x <= 0] = 0\n",
    "    x[x > 0] = 1\n",
    "    return x"
   ]
  },
  {
   "cell_type": "code",
   "execution_count": 16,
   "metadata": {},
   "outputs": [],
   "source": [
    "def tanh(x):\n",
    "    ''' Tanh function '''\n",
    "    \n",
    "    return np.tanh(x)\n",
    "\n",
    "def tanh_derivative(x):\n",
    "    ''' Derivative of tanh function '''\n",
    "    \n",
    "    return 1 - np.tanh(x) ** 2"
   ]
  },
  {
   "cell_type": "code",
   "execution_count": 17,
   "metadata": {},
   "outputs": [],
   "source": [
    "class NeuralNetwork:\n",
    "\n",
    "    def __init__(self, K, D, N, f0, epochs, learning_rate, n_batches):\n",
    "\n",
    "        # reproduce the same initial weights at each execution\n",
    "        np.random.seed(42)\n",
    "        # number of labels\n",
    "        self.K = K\n",
    "        # number of features or input dimension\n",
    "        self.D = D\n",
    "        # number of neurons in the hidden layer\n",
    "        self.N = N\n",
    "        # name of activation function\n",
    "        self.f0 = f0\n",
    "        # w0 - weights between input and hidden layer\n",
    "        # w1 - weights between hidden layer and output layer\n",
    "        self.w0, self.w1 = self.initialize_weights()\n",
    "        # number of iteration - convergence criteria\n",
    "        self.epochs = epochs\n",
    "        # constant learning rate\n",
    "        self.learning_rate = learning_rate\n",
    "        # batch size - number of samples that will be propagated through the network.\n",
    "        self.n_batches = n_batches\n",
    "    \n",
    "    \n",
    "    def initialize_weights(self):\n",
    "        ''' Function to initialize weights '''\n",
    "        \n",
    "        # the size is set to number of neurons x 785 (784 input features + bias)\n",
    "        w0 = np.random.uniform(-1.0, 1.0, size=self.N * (self.D + 1))\n",
    "        w0 = w0.reshape(self.N, self.D + 1)\n",
    "        # similarly size is number of classes x (number of neurons + 1) \n",
    "        w1 = np.random.uniform(-1.0, 1.0, size=self.K * (self.N + 1))\n",
    "        w1 = w1.reshape(self.K, self.N + 1)\n",
    "        return w0, w1\n",
    "\n",
    "    \n",
    "    def add_bias(self, X, how='column'):\n",
    "        ''' Function to add bias '''\n",
    "        \n",
    "        if how == 'column':\n",
    "            X_new = np.ones((X.shape[0], X.shape[1] + 1))\n",
    "            X_new[:, 1:] = X\n",
    "        elif how == 'row':\n",
    "            X_new = np.ones((X.shape[0] + 1, X.shape[1]))\n",
    "            X_new[1:, :] = X\n",
    "        return X_new\n",
    "\n",
    "    \n",
    "    def forward_pass(self, X):\n",
    "        ''' Forward pass function '''\n",
    "        \n",
    "        ## Hidden Layer\n",
    "        \n",
    "        net_input = self.add_bias(X, how='column')\n",
    "        z0 = self.w0.dot(net_input.T)\n",
    "        if self.f0 == 'relu':\n",
    "            a0 = relu(z0)\n",
    "        elif self.f0 == 'tanh':\n",
    "            a0 = tanh(z0)\n",
    "        else:\n",
    "            a0 = sigmoid(z0)\n",
    "    \n",
    "        ## Output layer\n",
    "        \n",
    "        a0 = self.add_bias(a0, how='row')\n",
    "        z1 = self.w1.dot(a0)\n",
    "        a1 = sigmoid(z1)\n",
    "        \n",
    "        return net_input, z0, a0, z1, a1\n",
    "    \n",
    "    \n",
    "    def backward_pass(self, net_input, z0, a0, a1, y):\n",
    "        ''' Backward pass function '''\n",
    "        \n",
    "        # calculate error at output layer\n",
    "        E = a1 - y\n",
    "        z0 = self.add_bias(z0, how='row')\n",
    "        \n",
    "        if self.f0 == 'relu':\n",
    "            d_z0 = self.w1.T.dot(E) * relu_derivative(z0)\n",
    "        elif self.f0 == 'tanh':\n",
    "            d_z0 = self.w1.T.dot(E) * tanh_derivative(z0)\n",
    "        else:\n",
    "            d_z0 = self.w1.T.dot(E) * sigmoid_derivative(z0)\n",
    "        d_z0 = d_z0[1:, :]\n",
    "        \n",
    "        # gradient with respect to input\n",
    "        grad1 = d_z0.dot(net_input)\n",
    "        # gradient with respect to a0\n",
    "        grad2 = E.dot(a0.T)\n",
    "        \n",
    "        return grad1, grad2\n",
    "\n",
    "    \n",
    "    def error(self, y, output):\n",
    "        ''' Function to calculate cross entropy loss '''\n",
    "        \n",
    "        err = cross_entropy(output, y)\n",
    "        return 0.5 * np.mean(err)\n",
    "\n",
    "    \n",
    "    def backprop_step(self, X, y):\n",
    "        ''' Backpropagation function '''\n",
    "        \n",
    "        # forward pass\n",
    "        net_input, z0, a0, z1, a1 = self.forward_pass(X)\n",
    "        y = y.T\n",
    "\n",
    "        # backward pass\n",
    "        grad1, grad2 = self.backward_pass(net_input, z0, a0, a1, y)\n",
    "        \n",
    "        # calculate error\n",
    "        err = self.error(y, a1)\n",
    "        \n",
    "        return err, grad1, grad2\n",
    "\n",
    "    \n",
    "    def fit(self, X, y):\n",
    "        ''' Function to train model '''\n",
    "        \n",
    "        self.err = []\n",
    "        self.epoch_list = []\n",
    "        X_data, y_data = X.copy(), y.copy()\n",
    "        # representing actual outputs in one hot vector \n",
    "        y_data_enc = one_hot(y_data, self.K)\n",
    "        \n",
    "        # gradient descent\n",
    "        for i in range(self.epochs):\n",
    "\n",
    "            X_mb = np.array_split(X_data, self.n_batches)\n",
    "            y_mb = np.array_split(y_data_enc, self.n_batches)\n",
    "            \n",
    "            epoch_errors = []\n",
    "            \n",
    "            for Xi, yi in zip(X_mb, y_mb):\n",
    "                \n",
    "                # calculate gradients\n",
    "                err, grad1, grad2 = self.backprop_step(Xi, yi)\n",
    "                epoch_errors.append(err)\n",
    "                \n",
    "                # update weights\n",
    "                self.w0 -= (self.learning_rate * grad1)\n",
    "                self.w1 -= (self.learning_rate * grad2)\n",
    "            \n",
    "            if i % 50 == 0:\n",
    "                self.err.append(np.mean(epoch_errors))\n",
    "                self.epoch_list.append(i)\n",
    "                print(np.mean(epoch_errors))\n",
    "        \n",
    "        return self\n",
    "    \n",
    "    \n",
    "    def predict(self, X):\n",
    "        ''' Function to predict output class '''\n",
    "        \n",
    "        Xt = X.copy()\n",
    "        # get probabilities of each input for each class\n",
    "        prob = self.predict_proba(Xt)\n",
    "        \n",
    "        y_hat = list()\n",
    "        # assign the class having the maximum probability to input instance\n",
    "        for i in prob:\n",
    "            y_hat.append([np.argmax(i)])\n",
    "        \n",
    "        return np.array(y_hat)\n",
    "    \n",
    "    \n",
    "    def predict_proba(self, X):\n",
    "        ''' Function to get probabilities of all the inputs for all the classes '''\n",
    "        \n",
    "        Xt = X.copy()\n",
    "        net_input, z0, a0, z1, a1 = self.forward_pass(Xt)\n",
    "        return softmax(a1.T)"
   ]
  },
  {
   "cell_type": "code",
   "execution_count": 18,
   "metadata": {},
   "outputs": [],
   "source": [
    "# input dimension\n",
    "D = 784\n",
    "# number of output classes\n",
    "K = 10\n",
    "\n",
    "# array for storing errors at different configurations\n",
    "config_errors = []\n",
    "# array for storing accuracies at different configurations\n",
    "config_accuracies = []"
   ]
  },
  {
   "cell_type": "markdown",
   "metadata": {},
   "source": [
    "#### Confiuration 1 - 50 neurons in the hidden layer and sigmoid activation function at hidden layer"
   ]
  },
  {
   "cell_type": "code",
   "execution_count": 19,
   "metadata": {},
   "outputs": [
    {
     "name": "stdout",
     "output_type": "stream",
     "text": [
      "34.23504545522921\n",
      "5.1047023085040815\n",
      "3.5907225153941034\n",
      "2.833485866991773\n",
      "2.3530234167345307\n",
      "1.9971993401615087\n"
     ]
    },
    {
     "data": {
      "text/plain": [
       "<__main__.NeuralNetwork at 0x1b303ff3a90>"
      ]
     },
     "execution_count": 19,
     "metadata": {},
     "output_type": "execute_result"
    }
   ],
   "source": [
    "nn1 = NeuralNetwork(K=K, D=D, N=50, f0='sigmoid', epochs=300, learning_rate=0.001, n_batches=1000)\n",
    "# train model\n",
    "nn1.fit(int_train_images, int_train_labels)"
   ]
  },
  {
   "cell_type": "markdown",
   "metadata": {},
   "source": [
    "The convergence criteria used is number of epochs = 300. The error can further be reduced by increasing the number of epochs but because of computation limitation I have set the epochs to 300 and the error is reduced from 34.235 to 1.9971"
   ]
  },
  {
   "cell_type": "markdown",
   "metadata": {},
   "source": [
    "Plot errors at epoch interval of 50"
   ]
  },
  {
   "cell_type": "code",
   "execution_count": 20,
   "metadata": {},
   "outputs": [
    {
     "data": {
      "image/png": "[encoded data removed]",
      "text/plain": [
       "<Figure size 432x288 with 1 Axes>"
      ]
     },
     "metadata": {
      "needs_background": "light"
     },
     "output_type": "display_data"
    }
   ],
   "source": [
    "config_errors.append(nn1.err[-1]) \n",
    "plt.xlabel('Epochs')\n",
    "plt.ylabel('Accuracy')\n",
    "plt.plot(nn1.epoch_list, nn1.err)\n",
    "plt.show()"
   ]
  },
  {
   "cell_type": "markdown",
   "metadata": {},
   "source": [
    "Error is decreasing with increasing number of epochs."
   ]
  },
  {
   "cell_type": "code",
   "execution_count": 21,
   "metadata": {},
   "outputs": [
    {
     "name": "stdout",
     "output_type": "stream",
     "text": [
      "Train Accuracy: 0.9891960784313726\n"
     ]
    }
   ],
   "source": [
    "# accuracy of the training data\n",
    "y_hat1 = nn1.predict(int_train_images)\n",
    "accuracy1 = skm.accuracy_score(int_train_labels, y_hat1)\n",
    "print('Train Accuracy: {}'.format(accuracy1))"
   ]
  },
  {
   "cell_type": "markdown",
   "metadata": {},
   "source": [
    "Train accuracy is calculated in order to show the correctness of the model implementation which is 98.91% which is very high."
   ]
  },
  {
   "cell_type": "code",
   "execution_count": 22,
   "metadata": {},
   "outputs": [
    {
     "name": "stdout",
     "output_type": "stream",
     "text": [
      "Test Accuracy: 0.9604444444444444\n"
     ]
    }
   ],
   "source": [
    "# accuracy of dev data\n",
    "y_hat1 = nn1.predict(int_dev_images)\n",
    "accuracy1 = skm.accuracy_score(int_dev_labels, y_hat1)\n",
    "config_accuracies.append(accuracy1)\n",
    "print('Test Accuracy: {}'.format(accuracy1))"
   ]
  },
  {
   "cell_type": "markdown",
   "metadata": {},
   "source": [
    "Accuracy on dev set is 96.04% which is also very high. So we can say that neural networks give better accuracy than the models we did in earlier assignments."
   ]
  },
  {
   "cell_type": "markdown",
   "metadata": {},
   "source": [
    "#### Confiuration 2 - 50 neurons in the hidden layer and tanh activation function at hidden layer"
   ]
  },
  {
   "cell_type": "code",
   "execution_count": 23,
   "metadata": {},
   "outputs": [
    {
     "name": "stdout",
     "output_type": "stream",
     "text": [
      "30.292318687340863\n",
      "4.414210154524478\n",
      "3.1244109102504023\n",
      "2.4938901076225393\n",
      "2.078943879487736\n",
      "1.7950453209137809\n"
     ]
    },
    {
     "data": {
      "text/plain": [
       "<__main__.NeuralNetwork at 0x1b303ff39e8>"
      ]
     },
     "execution_count": 23,
     "metadata": {},
     "output_type": "execute_result"
    }
   ],
   "source": [
    "nn2 = NeuralNetwork(K=K, D=D, N=50, f0='tanh', epochs=300, learning_rate=0.001, n_batches=1000)\n",
    "# train model\n",
    "nn2.fit(int_train_images, int_train_labels)"
   ]
  },
  {
   "cell_type": "markdown",
   "metadata": {},
   "source": [
    "Changing the activation function has lowered the error to 1.79"
   ]
  },
  {
   "cell_type": "code",
   "execution_count": 24,
   "metadata": {},
   "outputs": [
    {
     "data": {
      "image/png": "[encoded data removed]",
      "text/plain": [
       "<Figure size 432x288 with 1 Axes>"
      ]
     },
     "metadata": {
      "needs_background": "light"
     },
     "output_type": "display_data"
    }
   ],
   "source": [
    "# plot errors at interval of 50 epochs\n",
    "config_errors.append(nn2.err[-1])\n",
    "plt.xlabel('Epochs')\n",
    "plt.ylabel('Accuracy')\n",
    "plt.plot(nn2.epoch_list, nn2.err)\n",
    "plt.show()"
   ]
  },
  {
   "cell_type": "markdown",
   "metadata": {},
   "source": [
    "Error is decreasing with increasing number of epochs."
   ]
  },
  {
   "cell_type": "code",
   "execution_count": 25,
   "metadata": {},
   "outputs": [
    {
     "name": "stdout",
     "output_type": "stream",
     "text": [
      "Train Accuracy: 0.9900196078431373\n"
     ]
    }
   ],
   "source": [
    "# accuracy at train data\n",
    "y_hat2 = nn2.predict(int_train_images)\n",
    "accuracy2 = skm.accuracy_score(int_train_labels, y_hat2)\n",
    "print('Train Accuracy: {}'.format(accuracy2))"
   ]
  },
  {
   "cell_type": "markdown",
   "metadata": {},
   "source": [
    "This time we get a better model which has about 99% accuracy on train data."
   ]
  },
  {
   "cell_type": "code",
   "execution_count": 26,
   "metadata": {},
   "outputs": [
    {
     "name": "stdout",
     "output_type": "stream",
     "text": [
      "Test Accuracy: 0.9508888888888889\n"
     ]
    }
   ],
   "source": [
    "# accuracy at dev data\n",
    "y_hat2 = nn2.predict(int_dev_images)\n",
    "accuracy2 = skm.accuracy_score(int_dev_labels, y_hat2)\n",
    "config_accuracies.append(accuracy2)\n",
    "print('Test Accuracy: {}'.format(accuracy2))"
   ]
  },
  {
   "cell_type": "markdown",
   "metadata": {},
   "source": [
    "But as we see here the accuracy on dev data is decreased to 95% which is still very high."
   ]
  },
  {
   "cell_type": "markdown",
   "metadata": {},
   "source": [
    "#### Confiuration 3 - 50 neurons in the hidden layer and ReLU activation function at hidden layer"
   ]
  },
  {
   "cell_type": "code",
   "execution_count": 27,
   "metadata": {},
   "outputs": [
    {
     "name": "stdout",
     "output_type": "stream",
     "text": [
      "30.545665189316562\n",
      "3.649980359115937\n",
      "2.51071267520673\n",
      "1.902938788046942\n",
      "1.4718089279283355\n",
      "1.1400437448566132\n"
     ]
    },
    {
     "data": {
      "text/plain": [
       "<__main__.NeuralNetwork at 0x1b30401fda0>"
      ]
     },
     "execution_count": 27,
     "metadata": {},
     "output_type": "execute_result"
    }
   ],
   "source": [
    "nn3 = NeuralNetwork(K=K, D=D, N=50, f0='relu', epochs=300, learning_rate=0.001, n_batches=1000)\n",
    "# train model\n",
    "nn3.fit(int_train_images, int_train_labels)"
   ]
  },
  {
   "cell_type": "markdown",
   "metadata": {},
   "source": [
    "Error has decreased more here to 1.14"
   ]
  },
  {
   "cell_type": "code",
   "execution_count": 28,
   "metadata": {},
   "outputs": [
    {
     "data": {
      "image/png": "[encoded data removed]",
      "text/plain": [
       "<Figure size 432x288 with 1 Axes>"
      ]
     },
     "metadata": {
      "needs_background": "light"
     },
     "output_type": "display_data"
    }
   ],
   "source": [
    "# plot errors at interval of 50 epochs\n",
    "config_errors.append(nn3.err[-1])\n",
    "plt.xlabel('Epochs')\n",
    "plt.ylabel('Accuracy')\n",
    "plt.plot(nn3.epoch_list, nn3.err)\n",
    "plt.show()"
   ]
  },
  {
   "cell_type": "markdown",
   "metadata": {},
   "source": [
    "Error is decreasing with increasing number of epochs."
   ]
  },
  {
   "cell_type": "code",
   "execution_count": 29,
   "metadata": {},
   "outputs": [
    {
     "name": "stdout",
     "output_type": "stream",
     "text": [
      "Train Accuracy: 0.9946274509803922\n"
     ]
    }
   ],
   "source": [
    "# accuracy at train data\n",
    "y_hat3 = nn3.predict(int_train_images)\n",
    "accuracy3 = skm.accuracy_score(int_train_labels, y_hat3)\n",
    "print('Train Accuracy: {}'.format(accuracy3))"
   ]
  },
  {
   "cell_type": "markdown",
   "metadata": {},
   "source": [
    "Accuracy on train data is 99.46% "
   ]
  },
  {
   "cell_type": "code",
   "execution_count": 30,
   "metadata": {},
   "outputs": [
    {
     "name": "stdout",
     "output_type": "stream",
     "text": [
      "Test Accuracy: 0.9643333333333334\n"
     ]
    }
   ],
   "source": [
    "# accuracy at test data\n",
    "y_hat3 = nn3.predict(int_dev_images)\n",
    "accuracy3 = skm.accuracy_score(int_dev_labels, y_hat3)\n",
    "config_accuracies.append(accuracy3)\n",
    "print('Test Accuracy: {}'.format(accuracy3))"
   ]
  },
  {
   "cell_type": "markdown",
   "metadata": {},
   "source": [
    "Dev data accuracy using ReLU function is 96.43% which is higher than the above 2 activation functions."
   ]
  },
  {
   "cell_type": "markdown",
   "metadata": {},
   "source": [
    "#### Confiuration 4 - 75 neurons in the hidden layer and sigmoid activation function at hidden layer"
   ]
  },
  {
   "cell_type": "code",
   "execution_count": 31,
   "metadata": {},
   "outputs": [
    {
     "name": "stdout",
     "output_type": "stream",
     "text": [
      "32.02692222841036\n",
      "4.400810757240635\n",
      "2.9174871765370742\n",
      "2.1773089128255805\n",
      "1.6954498940468437\n",
      "1.3561182357269301\n"
     ]
    },
    {
     "data": {
      "text/plain": [
       "<__main__.NeuralNetwork at 0x1b328c45048>"
      ]
     },
     "execution_count": 31,
     "metadata": {},
     "output_type": "execute_result"
    }
   ],
   "source": [
    "nn4 = NeuralNetwork(K=K, D=D, N=75, f0='sigmoid', epochs=300, learning_rate=0.001, n_batches=1000)\n",
    "# train model\n",
    "nn4.fit(int_train_images, int_train_labels)"
   ]
  },
  {
   "cell_type": "markdown",
   "metadata": {},
   "source": [
    "Here we have increased the number of neurons in the hidden layer to 75. The error after 300 epochs with sigmoid function in the hidden layer is 1.35 "
   ]
  },
  {
   "cell_type": "code",
   "execution_count": 32,
   "metadata": {},
   "outputs": [
    {
     "data": {
      "image/png": "[encoded data removed]",
      "text/plain": [
       "<Figure size 432x288 with 1 Axes>"
      ]
     },
     "metadata": {
      "needs_background": "light"
     },
     "output_type": "display_data"
    }
   ],
   "source": [
    "# plot errors at interval of 50 epochs\n",
    "config_errors.append(nn4.err[-1])\n",
    "plt.xlabel('Epochs')\n",
    "plt.ylabel('Accuracy')\n",
    "plt.plot(nn4.epoch_list, nn4.err)\n",
    "plt.show()"
   ]
  },
  {
   "cell_type": "markdown",
   "metadata": {},
   "source": [
    "Error is decreasing with increasing number of epochs."
   ]
  },
  {
   "cell_type": "code",
   "execution_count": 33,
   "metadata": {},
   "outputs": [
    {
     "name": "stdout",
     "output_type": "stream",
     "text": [
      "Train Accuracy: 0.9939803921568627\n"
     ]
    }
   ],
   "source": [
    "# accuracy at train data\n",
    "y_hat4 = nn4.predict(int_train_images)\n",
    "accuracy4 = skm.accuracy_score(int_train_labels, y_hat4)\n",
    "print('Train Accuracy: {}'.format(accuracy4))"
   ]
  },
  {
   "cell_type": "markdown",
   "metadata": {},
   "source": [
    "Train accuracy in this case is 99.39% "
   ]
  },
  {
   "cell_type": "code",
   "execution_count": 34,
   "metadata": {},
   "outputs": [
    {
     "name": "stdout",
     "output_type": "stream",
     "text": [
      "Test Accuracy: 0.9653333333333334\n"
     ]
    }
   ],
   "source": [
    "# accuracy at test data\n",
    "y_hat4 = nn4.predict(int_dev_images)\n",
    "accuracy4 = skm.accuracy_score(int_dev_labels, y_hat4)\n",
    "config_accuracies.append(accuracy4)\n",
    "print('Test Accuracy: {}'.format(accuracy4))"
   ]
  },
  {
   "cell_type": "markdown",
   "metadata": {},
   "source": [
    "Accuracy 96.53% on dev data is higher than the earlier configurations. "
   ]
  },
  {
   "cell_type": "markdown",
   "metadata": {},
   "source": [
    "#### Confiuration 5 - 75 neurons in the hidden layer and tanh activation function at hidden layer"
   ]
  },
  {
   "cell_type": "code",
   "execution_count": 35,
   "metadata": {},
   "outputs": [
    {
     "name": "stdout",
     "output_type": "stream",
     "text": [
      "30.40080032279279\n",
      "3.8072102977359457\n",
      "2.42929257827872\n",
      "1.7330186167115575\n",
      "1.3037834727056723\n",
      "1.0034807477462402\n"
     ]
    },
    {
     "data": {
      "text/plain": [
       "<__main__.NeuralNetwork at 0x1b328c45dd8>"
      ]
     },
     "execution_count": 35,
     "metadata": {},
     "output_type": "execute_result"
    }
   ],
   "source": [
    "nn5 = NeuralNetwork(K=K, D=D, N=75, f0='tanh', epochs=300, learning_rate=0.001, n_batches=1000)\n",
    "# train model\n",
    "nn5.fit(int_train_images, int_train_labels)"
   ]
  },
  {
   "cell_type": "markdown",
   "metadata": {},
   "source": [
    "The error here has decreased to 1.003"
   ]
  },
  {
   "cell_type": "code",
   "execution_count": 36,
   "metadata": {},
   "outputs": [
    {
     "data": {
      "image/png": "[encoded data removed]",
      "text/plain": [
       "<Figure size 432x288 with 1 Axes>"
      ]
     },
     "metadata": {
      "needs_background": "light"
     },
     "output_type": "display_data"
    }
   ],
   "source": [
    "# plot errors at interval of 50 epochs\n",
    "config_errors.append(nn5.err[-1])\n",
    "plt.xlabel('Epochs')\n",
    "plt.ylabel('Accuracy')\n",
    "plt.plot(nn5.epoch_list, nn5.err)\n",
    "plt.show()"
   ]
  },
  {
   "cell_type": "markdown",
   "metadata": {},
   "source": [
    "Error is decreasing with increasing number of epochs."
   ]
  },
  {
   "cell_type": "code",
   "execution_count": 37,
   "metadata": {},
   "outputs": [
    {
     "name": "stdout",
     "output_type": "stream",
     "text": [
      "Train Accuracy: 0.996078431372549\n"
     ]
    }
   ],
   "source": [
    "# accuracy at train data\n",
    "y_hat5 = nn5.predict(int_train_images)\n",
    "accuracy5 = skm.accuracy_score(int_train_labels, y_hat5)\n",
    "print('Train Accuracy: {}'.format(accuracy5))"
   ]
  },
  {
   "cell_type": "code",
   "execution_count": 38,
   "metadata": {},
   "outputs": [
    {
     "name": "stdout",
     "output_type": "stream",
     "text": [
      "Test Accuracy: 0.9548888888888889\n"
     ]
    }
   ],
   "source": [
    "# accuracy at dev data\n",
    "y_hat5 = nn5.predict(int_dev_images)\n",
    "accuracy5 = skm.accuracy_score(int_dev_labels, y_hat5)\n",
    "config_accuracies.append(accuracy5)\n",
    "print('Test Accuracy: {}'.format(accuracy5))"
   ]
  },
  {
   "cell_type": "markdown",
   "metadata": {},
   "source": [
    "Accuracy on dev data in this case is 95.48% lesser than the earlier."
   ]
  },
  {
   "cell_type": "markdown",
   "metadata": {},
   "source": [
    "#### Confiuration 6 - 75 neurons in the hidden layer and ReLU activation function at hidden layer"
   ]
  },
  {
   "cell_type": "code",
   "execution_count": 39,
   "metadata": {},
   "outputs": [
    {
     "name": "stdout",
     "output_type": "stream",
     "text": [
      "32.64292188913994\n",
      "3.0201955161039193\n",
      "1.8084639828440694\n",
      "1.1387724360200135\n",
      "0.6943357326158719\n",
      "0.402230798562914\n"
     ]
    },
    {
     "data": {
      "text/plain": [
       "<__main__.NeuralNetwork at 0x1b313117ac8>"
      ]
     },
     "execution_count": 39,
     "metadata": {},
     "output_type": "execute_result"
    }
   ],
   "source": [
    "nn6 = NeuralNetwork(K=K, D=D, N=75, f0='relu', epochs=300, learning_rate=0.001, n_batches=1000)\n",
    "# train model\n",
    "nn6.fit(int_train_images, int_train_labels)"
   ]
  },
  {
   "cell_type": "markdown",
   "metadata": {},
   "source": [
    "Error 0.402 is least here compared to all the above configurations."
   ]
  },
  {
   "cell_type": "code",
   "execution_count": 40,
   "metadata": {},
   "outputs": [
    {
     "data": {
      "image/png": "[encoded data removed]",
      "text/plain": [
       "<Figure size 432x288 with 1 Axes>"
      ]
     },
     "metadata": {
      "needs_background": "light"
     },
     "output_type": "display_data"
    }
   ],
   "source": [
    "# plot errors at interval of 50 epochs\n",
    "config_errors.append(nn6.err[-1])\n",
    "plt.xlabel('Epochs')\n",
    "plt.ylabel('Accuracy')\n",
    "plt.plot(nn6.epoch_list, nn6.err)\n",
    "plt.show()"
   ]
  },
  {
   "cell_type": "markdown",
   "metadata": {},
   "source": [
    "Error is decreasing with increasing number of epochs."
   ]
  },
  {
   "cell_type": "code",
   "execution_count": 41,
   "metadata": {},
   "outputs": [
    {
     "name": "stdout",
     "output_type": "stream",
     "text": [
      "Train Accuracy: 0.9994509803921569\n"
     ]
    }
   ],
   "source": [
    "# accuracy at train data\n",
    "y_hat6 = nn6.predict(int_train_images)\n",
    "accuracy6 = skm.accuracy_score(int_train_labels, y_hat6)\n",
    "print('Train Accuracy: {}'.format(accuracy6))"
   ]
  },
  {
   "cell_type": "markdown",
   "metadata": {},
   "source": [
    "Train accuracy is also highest 99.94%."
   ]
  },
  {
   "cell_type": "code",
   "execution_count": 42,
   "metadata": {},
   "outputs": [
    {
     "name": "stdout",
     "output_type": "stream",
     "text": [
      "Test Accuracy: 0.9678888888888889\n"
     ]
    }
   ],
   "source": [
    "# accuracy at test data\n",
    "y_hat6 = nn6.predict(int_dev_images)\n",
    "accuracy6 = skm.accuracy_score(int_dev_labels, y_hat6)\n",
    "config_accuracies.append(accuracy6)\n",
    "print('Test Accuracy: {}'.format(accuracy6))"
   ]
  },
  {
   "cell_type": "markdown",
   "metadata": {},
   "source": [
    "Accuracy on dev data is also greater 96.78%."
   ]
  },
  {
   "cell_type": "markdown",
   "metadata": {},
   "source": [
    "## Comparing configurations"
   ]
  },
  {
   "cell_type": "markdown",
   "metadata": {},
   "source": [
    "#### Comparing loss of each configuration"
   ]
  },
  {
   "cell_type": "code",
   "execution_count": 43,
   "metadata": {
    "scrolled": true
   },
   "outputs": [
    {
     "data": {
      "image/png": "[encoded data removed]",
      "text/plain": [
       "<Figure size 432x288 with 1 Axes>"
      ]
     },
     "metadata": {
      "needs_background": "light"
     },
     "output_type": "display_data"
    }
   ],
   "source": [
    "plt.xlabel('Configurations')\n",
    "plt.ylabel('Loss')\n",
    "plt.plot([1, 2, 3, 4, 5, 6], config_errors)\n",
    "plt.show()"
   ]
  },
  {
   "cell_type": "markdown",
   "metadata": {},
   "source": [
    "As we can clearly observe that loss for the 6th configuration is lowest for 300 epochs."
   ]
  },
  {
   "cell_type": "markdown",
   "metadata": {},
   "source": [
    "#### Comparing accuracy of each configuration"
   ]
  },
  {
   "cell_type": "code",
   "execution_count": 44,
   "metadata": {},
   "outputs": [
    {
     "data": {
      "image/png": "[encoded data removed]",
      "text/plain": [
       "<Figure size 432x288 with 1 Axes>"
      ]
     },
     "metadata": {
      "needs_background": "light"
     },
     "output_type": "display_data"
    }
   ],
   "source": [
    "plt.xlabel('Configurations')\n",
    "plt.ylabel('Accuracies')\n",
    "plt.plot([1, 2, 3, 4, 5, 6], config_accuracies)\n",
    "plt.show()"
   ]
  },
  {
   "cell_type": "markdown",
   "metadata": {},
   "source": [
    "Accuracy also is highest for the 6th configuration for 300 epochs."
   ]
  },
  {
   "cell_type": "markdown",
   "metadata": {},
   "source": [
    "Observing the results above we can say that the 6th configuration is best so we will apply that on the full training data."
   ]
  },
  {
   "cell_type": "markdown",
   "metadata": {},
   "source": [
    "## Baseline classifier - Perceptron"
   ]
  },
  {
   "cell_type": "code",
   "execution_count": 45,
   "metadata": {},
   "outputs": [
    {
     "name": "stderr",
     "output_type": "stream",
     "text": [
      "C:\\Users\\aishwarya\\Anaconda3\\lib\\site-packages\\sklearn\\linear_model\\stochastic_gradient.py:183: FutureWarning: max_iter and tol parameters have been added in Perceptron in 0.19. If max_iter is set but tol is left unset, the default value for tol in 0.19 and 0.20 will be None (which is equivalent to -infinity, so it has no effect) but will change in 0.21 to 1e-3. Specify tol to silence this warning.\n",
      "  FutureWarning)\n"
     ]
    },
    {
     "data": {
      "text/plain": [
       "Perceptron(alpha=0.0001, class_weight=None, early_stopping=False, eta0=1.0,\n",
       "      fit_intercept=True, max_iter=300, n_iter=None, n_iter_no_change=5,\n",
       "      n_jobs=None, penalty=None, random_state=42, shuffle=True, tol=None,\n",
       "      validation_fraction=0.1, verbose=0, warm_start=False)"
      ]
     },
     "execution_count": 45,
     "metadata": {},
     "output_type": "execute_result"
    }
   ],
   "source": [
    "from sklearn.linear_model import Perceptron\n",
    "\n",
    "ppn = Perceptron(max_iter=300, random_state=42)\n",
    "\n",
    "# Train the perceptron\n",
    "ppn.fit(train_images, train_labels.ravel())"
   ]
  },
  {
   "cell_type": "markdown",
   "metadata": {},
   "source": [
    "Below the performance metrics of the above classifier are shown."
   ]
  },
  {
   "cell_type": "code",
   "execution_count": 46,
   "metadata": {},
   "outputs": [
    {
     "name": "stdout",
     "output_type": "stream",
     "text": [
      "Accuracy: 0.8771\n"
     ]
    }
   ],
   "source": [
    "# calculate accuracy\n",
    "y_pred_ppn = ppn.predict(test_images)\n",
    "accuracy_ppn = skm.accuracy_score(test_labels, y_pred_ppn)\n",
    "print('Accuracy: {}'.format(accuracy_ppn))"
   ]
  },
  {
   "cell_type": "code",
   "execution_count": 47,
   "metadata": {},
   "outputs": [
    {
     "name": "stdout",
     "output_type": "stream",
     "text": [
      "Precision: [0.88705234 0.97486535 0.95621302 0.85619678 0.96835443 0.92463768\n",
      " 0.87487969 0.86576577 0.70779221 0.83268859]\n"
     ]
    }
   ],
   "source": [
    "# calculate precision \n",
    "precision_ppn = skm.precision_score(test_labels, y_pred_ppn, average=None)\n",
    "print('Precision: {}'.format(precision_ppn))"
   ]
  },
  {
   "cell_type": "code",
   "execution_count": 48,
   "metadata": {},
   "outputs": [
    {
     "name": "stdout",
     "output_type": "stream",
     "text": [
      "Recall: [0.98571429 0.95682819 0.78294574 0.8960396  0.7790224  0.71524664\n",
      " 0.94885177 0.9348249  0.89527721 0.85332012]\n"
     ]
    }
   ],
   "source": [
    "# calculate recall\n",
    "recall_ppn = skm.recall_score(test_labels, y_pred_ppn, average=None)\n",
    "print('Recall: {}'.format(recall_ppn))"
   ]
  },
  {
   "cell_type": "code",
   "execution_count": 49,
   "metadata": {},
   "outputs": [
    {
     "name": "stdout",
     "output_type": "stream",
     "text": [
      "F1 score: [0.93378444 0.96576256 0.86094832 0.87566522 0.86343115 0.80657396\n",
      " 0.91036555 0.898971   0.79057117 0.84287812]\n"
     ]
    }
   ],
   "source": [
    "# calculate f1 score\n",
    "f1_score_ppn = skm.f1_score(test_labels, y_pred_ppn, average=None)\n",
    "print('F1 score: {}'.format(f1_score_ppn))"
   ]
  },
  {
   "cell_type": "code",
   "execution_count": 50,
   "metadata": {},
   "outputs": [
    {
     "name": "stdout",
     "output_type": "stream",
     "text": [
      "Confusion matrix: \n",
      "[[ 966    0    0    1    0    2    4    4    2    1]\n",
      " [   2 1086    2    3    0    1    6    2   32    1]\n",
      " [  25    6  808   35    2    3   44   16   89    4]\n",
      " [  10    0    7  905    0   10    8   12   44   14]\n",
      " [  13    2    9   11  765    5   18   26   36   97]\n",
      " [  24    1    0   62    2  638   35   17  101   12]\n",
      " [  16    3    4    1    3   17  909    1    4    0]\n",
      " [   3    5   11    7    0    0    2  961    4   35]\n",
      " [  19    7    3   19    5    9   13   18  872    9]\n",
      " [  11    4    1   13   13    5    0   53   48  861]]\n"
     ]
    }
   ],
   "source": [
    "# confusion matrix\n",
    "confusion_matrix_ppn = skm.confusion_matrix(test_labels, y_pred_ppn)\n",
    "print('Confusion matrix: ')\n",
    "print(confusion_matrix_ppn)"
   ]
  },
  {
   "cell_type": "markdown",
   "metadata": {},
   "source": [
    "## Neural Network "
   ]
  },
  {
   "cell_type": "code",
   "execution_count": 51,
   "metadata": {},
   "outputs": [
    {
     "name": "stdout",
     "output_type": "stream",
     "text": [
      "35.42224566421578\n",
      "3.428158328942118\n",
      "2.153960286911094\n",
      "1.43395384224994\n",
      "0.9123017441225545\n",
      "0.5460581255486054\n"
     ]
    },
    {
     "data": {
      "text/plain": [
       "<__main__.NeuralNetwork at 0x1b3146b5240>"
      ]
     },
     "execution_count": 51,
     "metadata": {},
     "output_type": "execute_result"
    }
   ],
   "source": [
    "nn = NeuralNetwork(K=K, D=D, N=75, f0='relu', epochs=300, learning_rate=0.001, n_batches=1000)\n",
    "# train model\n",
    "nn.fit(train_images, train_labels)"
   ]
  },
  {
   "cell_type": "markdown",
   "metadata": {},
   "source": [
    "Error is 0.54 after training the full train data set for 300 epochs."
   ]
  },
  {
   "cell_type": "code",
   "execution_count": 52,
   "metadata": {},
   "outputs": [
    {
     "data": {
      "image/png": "[encoded data removed]",
      "text/plain": [
       "<Figure size 432x288 with 1 Axes>"
      ]
     },
     "metadata": {
      "needs_background": "light"
     },
     "output_type": "display_data"
    }
   ],
   "source": [
    "# plot error at interval of 50 epoch\n",
    "plt.xlabel('Epochs')\n",
    "plt.ylabel('Accuracy')\n",
    "plt.plot(nn.epoch_list, nn.err)\n",
    "plt.show()"
   ]
  },
  {
   "cell_type": "markdown",
   "metadata": {},
   "source": [
    "Error is decreasing with increasing number of epochs."
   ]
  },
  {
   "cell_type": "code",
   "execution_count": 53,
   "metadata": {},
   "outputs": [
    {
     "name": "stdout",
     "output_type": "stream",
     "text": [
      "Train Accuracy: 0.9990666666666667\n"
     ]
    }
   ],
   "source": [
    "# accuracy at train data\n",
    "y_hat_nn = nn.predict(train_images)\n",
    "accuracy_nn = skm.accuracy_score(train_labels, y_hat_nn)\n",
    "print('Train Accuracy: {}'.format(accuracy_nn))"
   ]
  },
  {
   "cell_type": "markdown",
   "metadata": {},
   "source": [
    "Accuracy of training data is 99.90% which is very high."
   ]
  },
  {
   "cell_type": "code",
   "execution_count": 54,
   "metadata": {},
   "outputs": [
    {
     "name": "stdout",
     "output_type": "stream",
     "text": [
      "Test Accuracy: 0.9695\n"
     ]
    }
   ],
   "source": [
    "# calculate test accuracy\n",
    "y_hat_nn = nn.predict(test_images)\n",
    "accuracy_nn = skm.accuracy_score(test_labels, y_hat_nn)\n",
    "print('Test Accuracy: {}'.format(accuracy_nn))"
   ]
  },
  {
   "cell_type": "markdown",
   "metadata": {},
   "source": [
    "Test data accuracy is 96.95% which is much higher than what we got for standard perceptron."
   ]
  },
  {
   "cell_type": "code",
   "execution_count": 55,
   "metadata": {},
   "outputs": [
    {
     "name": "stdout",
     "output_type": "stream",
     "text": [
      "Precision: [0.97376387 0.98678414 0.96525097 0.95988258 0.96833504 0.97058824\n",
      " 0.97190427 0.9773399  0.95320448 0.96579477]\n"
     ]
    }
   ],
   "source": [
    "# calculate precision \n",
    "precision_nn = skm.precision_score(test_labels, y_hat_nn, average=None)\n",
    "print('Precision: {}'.format(precision_nn))"
   ]
  },
  {
   "cell_type": "code",
   "execution_count": 56,
   "metadata": {},
   "outputs": [
    {
     "name": "stdout",
     "output_type": "stream",
     "text": [
      "Recall: [0.98469388 0.98678414 0.96899225 0.97128713 0.96537678 0.96188341\n",
      " 0.97494781 0.96498054 0.96201232 0.95143707]\n"
     ]
    }
   ],
   "source": [
    "# calculate recall\n",
    "recall_nn = skm.recall_score(test_labels, y_hat_nn, average=None)\n",
    "print('Recall: {}'.format(recall_nn))"
   ]
  },
  {
   "cell_type": "code",
   "execution_count": 57,
   "metadata": {},
   "outputs": [
    {
     "name": "stdout",
     "output_type": "stream",
     "text": [
      "F1 score: [0.97919838 0.98678414 0.96711799 0.96555118 0.96685365 0.96621622\n",
      " 0.97342366 0.9711209  0.95758815 0.95856216]\n"
     ]
    }
   ],
   "source": [
    "# calculate f1 score\n",
    "f1_score_nn = skm.f1_score(test_labels, y_hat_nn, average=None)\n",
    "print('F1 score: {}'.format(f1_score_nn))"
   ]
  },
  {
   "cell_type": "code",
   "execution_count": 58,
   "metadata": {},
   "outputs": [
    {
     "name": "stdout",
     "output_type": "stream",
     "text": [
      "Confusion matrix: \n",
      "[[ 965    1    2    1    0    2    5    0    2    2]\n",
      " [   0 1120    6    2    0    1    2    1    3    0]\n",
      " [   3    0 1000    8    3    1    3    6    8    0]\n",
      " [   1    0    9  981    0    8    0    2    5    4]\n",
      " [   1    0    2    3  948    0    5    3    5   15]\n",
      " [   4    1    0   10    1  858    7    1   10    0]\n",
      " [   6    3    2    0    5    5  934    1    2    0]\n",
      " [   2    5    7    6    4    1    0  992    3    8]\n",
      " [   6    2    4    5    3    6    3    3  937    5]\n",
      " [   3    3    4    6   15    2    2    6    8  960]]\n"
     ]
    }
   ],
   "source": [
    "# confusion matrix\n",
    "confusion_matrix_nn = skm.confusion_matrix(test_labels, y_hat_nn)\n",
    "print('Confusion matrix: ')\n",
    "print(confusion_matrix_nn)"
   ]
  }
 ],
 "metadata": {
  "kernelspec": {
   "display_name": "Python 3",
   "language": "python",
   "name": "python3"
  },
  "language_info": {
   "codemirror_mode": {
    "name": "ipython",
    "version": 3
   },
   "file_extension": ".py",
   "mimetype": "text/x-python",
   "name": "python",
   "nbconvert_exporter": "python",
   "pygments_lexer": "ipython3",
   "version": "3.8.5"
  }
 },
 "nbformat": 4,
 "nbformat_minor": 2
}
